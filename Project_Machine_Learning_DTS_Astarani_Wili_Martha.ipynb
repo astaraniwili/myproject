{
  "nbformat": 4,
  "nbformat_minor": 0,
  "metadata": {
    "kernelspec": {
      "display_name": "Python 3",
      "language": "python",
      "name": "python3"
    },
    "language_info": {
      "codemirror_mode": {
        "name": "ipython",
        "version": 3
      },
      "file_extension": ".py",
      "mimetype": "text/x-python",
      "name": "python",
      "nbconvert_exporter": "python",
      "pygments_lexer": "ipython3",
      "version": "3.7.3"
    },
    "colab": {
      "name": "Project Machine Learning DTS - Astarani Wili Martha.ipynb",
      "provenance": [],
      "include_colab_link": true
    }
  },
  "cells": [
    {
      "cell_type": "markdown",
      "metadata": {
        "id": "view-in-github",
        "colab_type": "text"
      },
      "source": [
        "<a href=\"https://colab.research.google.com/github/astaraniwili/myproject/blob/master/Project_Machine_Learning_DTS_Astarani_Wili_Martha.ipynb\" target=\"_parent\"><img src=\"https://colab.research.google.com/assets/colab-badge.svg\" alt=\"Open In Colab\"/></a>"
      ]
    },
    {
      "cell_type": "markdown",
      "metadata": {
        "id": "_GphloG1_ZoU",
        "colab_type": "text"
      },
      "source": [
        "# <center> Project </center>"
      ]
    },
    {
      "cell_type": "markdown",
      "metadata": {
        "id": "euucm5h4_ZoV",
        "colab_type": "text"
      },
      "source": [
        "### Klasifikasi Data Survivabilitas Korban Kapal RMS Titanic\n",
        "Data ini berisi tentang informasi penumpang kapal RMS Titanic. Dengan dilakukannya klasifikasi, untuk mengetahui penumpang seperti apa yang memiliki kemungkinan bertahan hidup. Dari project ini, dilakukakan metode klasifikasi Regresi Logistik Biner dan SVM."
      ]
    },
    {
      "cell_type": "code",
      "metadata": {
        "id": "l_0LnGCv_ZoW",
        "colab_type": "code",
        "colab": {}
      },
      "source": [
        "import itertools\n",
        "import matplotlib.pyplot as plt\n",
        "from matplotlib.ticker import NullFormatter\n",
        "import pandas as pd\n",
        "import numpy as np\n",
        "import matplotlib.ticker as ticker\n",
        "from sklearn import preprocessing\n",
        "%matplotlib inline\n",
        "import pylab as pl\n",
        "import scipy.optimize as opt\n",
        "import matplotlib.pyplot as plt\n",
        "from sklearn.model_selection import train_test_split\n",
        "from sklearn.linear_model import LogisticRegression\n",
        "from sklearn.metrics import confusion_matrix\n",
        "from sklearn import svm\n",
        "from sklearn.metrics import classification_report, confusion_matrix"
      ],
      "execution_count": null,
      "outputs": []
    },
    {
      "cell_type": "markdown",
      "metadata": {
        "id": "YFDXnNwX_Zoa",
        "colab_type": "text"
      },
      "source": [
        "## Visualisasi Data"
      ]
    },
    {
      "cell_type": "code",
      "metadata": {
        "id": "dEC6wqz6_Zob",
        "colab_type": "code",
        "colab": {},
        "outputId": "b514360e-8bf8-4a00-d2c6-9d812c00c86a"
      },
      "source": [
        "data=pd.read_csv(\"titanic.csv\")\n",
        "data.head()"
      ],
      "execution_count": null,
      "outputs": [
        {
          "output_type": "execute_result",
          "data": {
            "text/html": [
              "<div>\n",
              "<style scoped>\n",
              "    .dataframe tbody tr th:only-of-type {\n",
              "        vertical-align: middle;\n",
              "    }\n",
              "\n",
              "    .dataframe tbody tr th {\n",
              "        vertical-align: top;\n",
              "    }\n",
              "\n",
              "    .dataframe thead th {\n",
              "        text-align: right;\n",
              "    }\n",
              "</style>\n",
              "<table border=\"1\" class=\"dataframe\">\n",
              "  <thead>\n",
              "    <tr style=\"text-align: right;\">\n",
              "      <th></th>\n",
              "      <th>PassengerId</th>\n",
              "      <th>Survived</th>\n",
              "      <th>Pclass</th>\n",
              "      <th>Name</th>\n",
              "      <th>Sex</th>\n",
              "      <th>Age</th>\n",
              "      <th>SibSp</th>\n",
              "      <th>Parch</th>\n",
              "      <th>Ticket</th>\n",
              "      <th>Fare</th>\n",
              "      <th>Cabin</th>\n",
              "      <th>Embarked</th>\n",
              "    </tr>\n",
              "  </thead>\n",
              "  <tbody>\n",
              "    <tr>\n",
              "      <th>0</th>\n",
              "      <td>1</td>\n",
              "      <td>0</td>\n",
              "      <td>3</td>\n",
              "      <td>Braund, Mr. Owen Harris</td>\n",
              "      <td>male</td>\n",
              "      <td>22.0</td>\n",
              "      <td>1</td>\n",
              "      <td>0</td>\n",
              "      <td>A/5 21171</td>\n",
              "      <td>7.2500</td>\n",
              "      <td>NaN</td>\n",
              "      <td>S</td>\n",
              "    </tr>\n",
              "    <tr>\n",
              "      <th>1</th>\n",
              "      <td>2</td>\n",
              "      <td>1</td>\n",
              "      <td>1</td>\n",
              "      <td>Cumings, Mrs. John Bradley (Florence Briggs Th...</td>\n",
              "      <td>female</td>\n",
              "      <td>38.0</td>\n",
              "      <td>1</td>\n",
              "      <td>0</td>\n",
              "      <td>PC 17599</td>\n",
              "      <td>71.2833</td>\n",
              "      <td>C85</td>\n",
              "      <td>C</td>\n",
              "    </tr>\n",
              "    <tr>\n",
              "      <th>2</th>\n",
              "      <td>3</td>\n",
              "      <td>1</td>\n",
              "      <td>3</td>\n",
              "      <td>Heikkinen, Miss. Laina</td>\n",
              "      <td>female</td>\n",
              "      <td>26.0</td>\n",
              "      <td>0</td>\n",
              "      <td>0</td>\n",
              "      <td>STON/O2. 3101282</td>\n",
              "      <td>7.9250</td>\n",
              "      <td>NaN</td>\n",
              "      <td>S</td>\n",
              "    </tr>\n",
              "    <tr>\n",
              "      <th>3</th>\n",
              "      <td>4</td>\n",
              "      <td>1</td>\n",
              "      <td>1</td>\n",
              "      <td>Futrelle, Mrs. Jacques Heath (Lily May Peel)</td>\n",
              "      <td>female</td>\n",
              "      <td>35.0</td>\n",
              "      <td>1</td>\n",
              "      <td>0</td>\n",
              "      <td>113803</td>\n",
              "      <td>53.1000</td>\n",
              "      <td>C123</td>\n",
              "      <td>S</td>\n",
              "    </tr>\n",
              "    <tr>\n",
              "      <th>4</th>\n",
              "      <td>5</td>\n",
              "      <td>0</td>\n",
              "      <td>3</td>\n",
              "      <td>Allen, Mr. William Henry</td>\n",
              "      <td>male</td>\n",
              "      <td>35.0</td>\n",
              "      <td>0</td>\n",
              "      <td>0</td>\n",
              "      <td>373450</td>\n",
              "      <td>8.0500</td>\n",
              "      <td>NaN</td>\n",
              "      <td>S</td>\n",
              "    </tr>\n",
              "  </tbody>\n",
              "</table>\n",
              "</div>"
            ],
            "text/plain": [
              "   PassengerId  Survived  Pclass  \\\n",
              "0            1         0       3   \n",
              "1            2         1       1   \n",
              "2            3         1       3   \n",
              "3            4         1       1   \n",
              "4            5         0       3   \n",
              "\n",
              "                                                Name     Sex   Age  SibSp  \\\n",
              "0                            Braund, Mr. Owen Harris    male  22.0      1   \n",
              "1  Cumings, Mrs. John Bradley (Florence Briggs Th...  female  38.0      1   \n",
              "2                             Heikkinen, Miss. Laina  female  26.0      0   \n",
              "3       Futrelle, Mrs. Jacques Heath (Lily May Peel)  female  35.0      1   \n",
              "4                           Allen, Mr. William Henry    male  35.0      0   \n",
              "\n",
              "   Parch            Ticket     Fare Cabin Embarked  \n",
              "0      0         A/5 21171   7.2500   NaN        S  \n",
              "1      0          PC 17599  71.2833   C85        C  \n",
              "2      0  STON/O2. 3101282   7.9250   NaN        S  \n",
              "3      0            113803  53.1000  C123        S  \n",
              "4      0            373450   8.0500   NaN        S  "
            ]
          },
          "metadata": {
            "tags": []
          },
          "execution_count": 2
        }
      ]
    },
    {
      "cell_type": "code",
      "metadata": {
        "id": "BxZzeGAL_Zoh",
        "colab_type": "code",
        "colab": {},
        "outputId": "f0d1138c-dccb-4811-a447-c57cef21288d"
      },
      "source": [
        "data.hist(column='Age', bins=50)"
      ],
      "execution_count": null,
      "outputs": [
        {
          "output_type": "execute_result",
          "data": {
            "text/plain": [
              "array([[<matplotlib.axes._subplots.AxesSubplot object at 0x0000029759BA1BE0>]],\n",
              "      dtype=object)"
            ]
          },
          "metadata": {
            "tags": []
          },
          "execution_count": 3
        },
        {
          "output_type": "display_data",
          "data": {
            "image/png": "[encoded data removed]",
            "text/plain": [
              "<Figure size 432x288 with 1 Axes>"
            ]
          },
          "metadata": {
            "tags": [],
            "needs_background": "light"
          }
        }
      ]
    },
    {
      "cell_type": "markdown",
      "metadata": {
        "id": "ROvtGq7B_Zol",
        "colab_type": "text"
      },
      "source": [
        "Dari hasil histogram diketahui penumpang kapal titanic lebih banyak berusia sekitar antara 10 tahun keatas sampai 30 tahun"
      ]
    },
    {
      "cell_type": "code",
      "metadata": {
        "id": "GsdWaxPM_Zol",
        "colab_type": "code",
        "colab": {},
        "outputId": "618598c6-fdc5-4cea-8417-4f08de363d36"
      },
      "source": [
        "figure = plt.figure(figsize=(15,8))\n",
        "plt.hist([data[data['Survived']==1]['Age'], data[data['Survived']==0]['Age']], stacked=True, color = ['g','r'],\n",
        "         bins = 30,label = ['Survived','Dead'])\n",
        "plt.xlabel('Age')\n",
        "plt.ylabel('Number of passengers')\n",
        "plt.legend()"
      ],
      "execution_count": null,
      "outputs": [
        {
          "output_type": "stream",
          "text": [
            "C:\\Users\\Astarani\\Anaconda3\\lib\\site-packages\\numpy\\lib\\histograms.py:824: RuntimeWarning: invalid value encountered in greater_equal\n",
            "  keep = (tmp_a >= first_edge)\n",
            "C:\\Users\\Astarani\\Anaconda3\\lib\\site-packages\\numpy\\lib\\histograms.py:825: RuntimeWarning: invalid value encountered in less_equal\n",
            "  keep &= (tmp_a <= last_edge)\n"
          ],
          "name": "stderr"
        },
        {
          "output_type": "execute_result",
          "data": {
            "text/plain": [
              "<matplotlib.legend.Legend at 0x2975f242400>"
            ]
          },
          "metadata": {
            "tags": []
          },
          "execution_count": 4
        },
        {
          "output_type": "display_data",
          "data": {
            "image/png": "[encoded data removed]",
            "text/plain": [
              "<Figure size 1080x576 with 1 Axes>"
            ]
          },
          "metadata": {
            "tags": [],
            "needs_background": "light"
          }
        }
      ]
    },
    {
      "cell_type": "markdown",
      "metadata": {
        "id": "awKbuLG6_Zop",
        "colab_type": "text"
      },
      "source": [
        "Hasil visualisasi data dengan histogram, dapat diketahui lebih banyak penumpang kapal titanic yang meninggal yang berusia antara 20 tahun sampai 30 tahun keatas"
      ]
    },
    {
      "cell_type": "code",
      "metadata": {
        "id": "wXAnUqq6_Zoq",
        "colab_type": "code",
        "colab": {},
        "outputId": "86300ed3-3b21-4542-d207-84188103c0d1"
      },
      "source": [
        "figure = plt.figure(figsize=(15,8))\n",
        "plt.hist([data[data['Survived']==1]['Fare'],data[data['Survived']==0]['Fare']], stacked=True, color = ['g','r'],\n",
        "         bins = 30,label = ['Survived','Dead'])\n",
        "plt.xlabel('Fare')\n",
        "plt.ylabel('Number of passengers')\n",
        "plt.legend()"
      ],
      "execution_count": null,
      "outputs": [
        {
          "output_type": "execute_result",
          "data": {
            "text/plain": [
              "<matplotlib.legend.Legend at 0x297602301d0>"
            ]
          },
          "metadata": {
            "tags": []
          },
          "execution_count": 53
        },
        {
          "output_type": "display_data",
          "data": {
            "image/png": "[encoded data removed]",
            "text/plain": [
              "<Figure size 1080x576 with 1 Axes>"
            ]
          },
          "metadata": {
            "tags": [],
            "needs_background": "light"
          }
        }
      ]
    },
    {
      "cell_type": "markdown",
      "metadata": {
        "id": "vu3fSVaw_Zox",
        "colab_type": "text"
      },
      "source": [
        "Jumlah penumpang dengan biaya perjalanan kapal RMS Titanic mulai dari 0 sampai 100 British Pounds setara, baik penumpang yang terselamatkan maupun meninggal. Akan tetapi lebih banyak penumpang yang meninggal, daripada penumpang dengan biaya perjalanan lebih dari 100 British Pounds"
      ]
    },
    {
      "cell_type": "code",
      "metadata": {
        "id": "XLUOKzSl_Zoy",
        "colab_type": "code",
        "colab": {},
        "outputId": "1b0e16fa-00fe-4320-b16c-e2072f5a27bf"
      },
      "source": [
        "ax = plt.subplot()\n",
        "ax.set_ylabel('Average fare')\n",
        "data.groupby('Pclass').mean()['Fare'].plot(kind='bar',figsize=(15,8), ax = ax)"
      ],
      "execution_count": null,
      "outputs": [
        {
          "output_type": "execute_result",
          "data": {
            "text/plain": [
              "<matplotlib.axes._subplots.AxesSubplot at 0x2975f389898>"
            ]
          },
          "metadata": {
            "tags": []
          },
          "execution_count": 6
        },
        {
          "output_type": "display_data",
          "data": {
            "image/png": "[encoded data removed]",
            "text/plain": [
              "<Figure size 1080x576 with 1 Axes>"
            ]
          },
          "metadata": {
            "tags": [],
            "needs_background": "light"
          }
        }
      ]
    },
    {
      "cell_type": "markdown",
      "metadata": {
        "id": "YdHMRbS__Zo3",
        "colab_type": "text"
      },
      "source": [
        "Dari rata-rata biaya perjalanan dari penumpang kapal RMS Titanic, lebih banyak pengguna Passenger Class 1st atau kelas Upper daripada pengguna class 2nd (Middle) dan 3rd (Lower) "
      ]
    },
    {
      "cell_type": "code",
      "metadata": {
        "scrolled": true,
        "id": "XB9O2dpo_Zo3",
        "colab_type": "code",
        "colab": {},
        "outputId": "116bf96c-c523-42fa-cac1-6d46847f7cbd"
      },
      "source": [
        "survived_embark = data[data['Survived']==1]['Embarked'].value_counts()\n",
        "dead_embark = data[data['Survived']==0]['Embarked'].value_counts()\n",
        "data1= pd.DataFrame([survived_embark,dead_embark])\n",
        "data1.index = ['Survived','Dead']\n",
        "data1.plot(kind='bar', stacked=True, figsize=(15,8))"
      ],
      "execution_count": null,
      "outputs": [
        {
          "output_type": "execute_result",
          "data": {
            "text/plain": [
              "<matplotlib.axes._subplots.AxesSubplot at 0x2975f89f320>"
            ]
          },
          "metadata": {
            "tags": []
          },
          "execution_count": 7
        },
        {
          "output_type": "display_data",
          "data": {
            "image/png": "[encoded data removed]",
            "text/plain": [
              "<Figure size 1080x576 with 1 Axes>"
            ]
          },
          "metadata": {
            "tags": [],
            "needs_background": "light"
          }
        }
      ]
    },
    {
      "cell_type": "markdown",
      "metadata": {
        "id": "3juaXtQu_Zo7",
        "colab_type": "text"
      },
      "source": [
        "Hasil dari jumlah penumpang yang meninggal maupun terselamatkan sama, dan tidak dipengruhi oleh tujuan Pelabuhan (Cherbourg, Queenstown, dan Southampton)"
      ]
    },
    {
      "cell_type": "code",
      "metadata": {
        "scrolled": true,
        "id": "oJVi8Ryx_Zo7",
        "colab_type": "code",
        "colab": {},
        "outputId": "7862cc95-a771-4817-acda-56fdb4df9d41"
      },
      "source": [
        "survived_sex = data[data['Survived']==1]['Sex'].value_counts()\n",
        "dead_sex = data[data['Survived']==0]['Sex'].value_counts()\n",
        "df = pd.DataFrame([survived_sex,dead_sex])\n",
        "df.index = ['Survived','Dead']\n",
        "df.plot(kind='bar',stacked=True, figsize=(15,8))"
      ],
      "execution_count": null,
      "outputs": [
        {
          "output_type": "execute_result",
          "data": {
            "text/plain": [
              "<matplotlib.axes._subplots.AxesSubplot at 0x2975f912710>"
            ]
          },
          "metadata": {
            "tags": []
          },
          "execution_count": 8
        },
        {
          "output_type": "display_data",
          "data": {
            "image/png": "[encoded data removed]",
            "text/plain": [
              "<Figure size 1080x576 with 1 Axes>"
            ]
          },
          "metadata": {
            "tags": [],
            "needs_background": "light"
          }
        }
      ]
    },
    {
      "cell_type": "markdown",
      "metadata": {
        "id": "unRXjbaX_Zo_",
        "colab_type": "text"
      },
      "source": [
        "Lebih banyak penumpang yang meninggal adalah penumpang Laki-laki. Sedangkan penumpang yang diselamatkan adalah penumpang wanita."
      ]
    },
    {
      "cell_type": "markdown",
      "metadata": {
        "id": "9Gv4bxyl_Zo_",
        "colab_type": "text"
      },
      "source": [
        "## Statistika Deskriptif"
      ]
    },
    {
      "cell_type": "code",
      "metadata": {
        "id": "HCaDL1cU_ZpA",
        "colab_type": "code",
        "colab": {},
        "outputId": "4a4715da-98d4-4e12-8c84-f3e20970c54c"
      },
      "source": [
        "data.describe()"
      ],
      "execution_count": null,
      "outputs": [
        {
          "output_type": "execute_result",
          "data": {
            "text/html": [
              "<div>\n",
              "<style scoped>\n",
              "    .dataframe tbody tr th:only-of-type {\n",
              "        vertical-align: middle;\n",
              "    }\n",
              "\n",
              "    .dataframe tbody tr th {\n",
              "        vertical-align: top;\n",
              "    }\n",
              "\n",
              "    .dataframe thead th {\n",
              "        text-align: right;\n",
              "    }\n",
              "</style>\n",
              "<table border=\"1\" class=\"dataframe\">\n",
              "  <thead>\n",
              "    <tr style=\"text-align: right;\">\n",
              "      <th></th>\n",
              "      <th>PassengerId</th>\n",
              "      <th>Survived</th>\n",
              "      <th>Pclass</th>\n",
              "      <th>Age</th>\n",
              "      <th>SibSp</th>\n",
              "      <th>Parch</th>\n",
              "      <th>Fare</th>\n",
              "    </tr>\n",
              "  </thead>\n",
              "  <tbody>\n",
              "    <tr>\n",
              "      <th>count</th>\n",
              "      <td>891.000000</td>\n",
              "      <td>891.000000</td>\n",
              "      <td>891.000000</td>\n",
              "      <td>714.000000</td>\n",
              "      <td>891.000000</td>\n",
              "      <td>891.000000</td>\n",
              "      <td>891.000000</td>\n",
              "    </tr>\n",
              "    <tr>\n",
              "      <th>mean</th>\n",
              "      <td>446.000000</td>\n",
              "      <td>0.383838</td>\n",
              "      <td>2.308642</td>\n",
              "      <td>29.699118</td>\n",
              "      <td>0.523008</td>\n",
              "      <td>0.381594</td>\n",
              "      <td>32.204208</td>\n",
              "    </tr>\n",
              "    <tr>\n",
              "      <th>std</th>\n",
              "      <td>257.353842</td>\n",
              "      <td>0.486592</td>\n",
              "      <td>0.836071</td>\n",
              "      <td>14.526497</td>\n",
              "      <td>1.102743</td>\n",
              "      <td>0.806057</td>\n",
              "      <td>49.693429</td>\n",
              "    </tr>\n",
              "    <tr>\n",
              "      <th>min</th>\n",
              "      <td>1.000000</td>\n",
              "      <td>0.000000</td>\n",
              "      <td>1.000000</td>\n",
              "      <td>0.420000</td>\n",
              "      <td>0.000000</td>\n",
              "      <td>0.000000</td>\n",
              "      <td>0.000000</td>\n",
              "    </tr>\n",
              "    <tr>\n",
              "      <th>25%</th>\n",
              "      <td>223.500000</td>\n",
              "      <td>0.000000</td>\n",
              "      <td>2.000000</td>\n",
              "      <td>20.125000</td>\n",
              "      <td>0.000000</td>\n",
              "      <td>0.000000</td>\n",
              "      <td>7.910400</td>\n",
              "    </tr>\n",
              "    <tr>\n",
              "      <th>50%</th>\n",
              "      <td>446.000000</td>\n",
              "      <td>0.000000</td>\n",
              "      <td>3.000000</td>\n",
              "      <td>28.000000</td>\n",
              "      <td>0.000000</td>\n",
              "      <td>0.000000</td>\n",
              "      <td>14.454200</td>\n",
              "    </tr>\n",
              "    <tr>\n",
              "      <th>75%</th>\n",
              "      <td>668.500000</td>\n",
              "      <td>1.000000</td>\n",
              "      <td>3.000000</td>\n",
              "      <td>38.000000</td>\n",
              "      <td>1.000000</td>\n",
              "      <td>0.000000</td>\n",
              "      <td>31.000000</td>\n",
              "    </tr>\n",
              "    <tr>\n",
              "      <th>max</th>\n",
              "      <td>891.000000</td>\n",
              "      <td>1.000000</td>\n",
              "      <td>3.000000</td>\n",
              "      <td>80.000000</td>\n",
              "      <td>8.000000</td>\n",
              "      <td>6.000000</td>\n",
              "      <td>512.329200</td>\n",
              "    </tr>\n",
              "  </tbody>\n",
              "</table>\n",
              "</div>"
            ],
            "text/plain": [
              "       PassengerId    Survived      Pclass         Age       SibSp  \\\n",
              "count   891.000000  891.000000  891.000000  714.000000  891.000000   \n",
              "mean    446.000000    0.383838    2.308642   29.699118    0.523008   \n",
              "std     257.353842    0.486592    0.836071   14.526497    1.102743   \n",
              "min       1.000000    0.000000    1.000000    0.420000    0.000000   \n",
              "25%     223.500000    0.000000    2.000000   20.125000    0.000000   \n",
              "50%     446.000000    0.000000    3.000000   28.000000    0.000000   \n",
              "75%     668.500000    1.000000    3.000000   38.000000    1.000000   \n",
              "max     891.000000    1.000000    3.000000   80.000000    8.000000   \n",
              "\n",
              "            Parch        Fare  \n",
              "count  891.000000  891.000000  \n",
              "mean     0.381594   32.204208  \n",
              "std      0.806057   49.693429  \n",
              "min      0.000000    0.000000  \n",
              "25%      0.000000    7.910400  \n",
              "50%      0.000000   14.454200  \n",
              "75%      0.000000   31.000000  \n",
              "max      6.000000  512.329200  "
            ]
          },
          "metadata": {
            "tags": []
          },
          "execution_count": 9
        }
      ]
    },
    {
      "cell_type": "markdown",
      "metadata": {
        "id": "npSQRLdf_ZpF",
        "colab_type": "text"
      },
      "source": [
        "## Mengatasi Missing Value"
      ]
    },
    {
      "cell_type": "code",
      "metadata": {
        "id": "XhVU4ZVk_ZpG",
        "colab_type": "code",
        "colab": {},
        "outputId": "6bb77241-f90c-452c-8bf8-013d29918879"
      },
      "source": [
        "data.isnull().sum()"
      ],
      "execution_count": null,
      "outputs": [
        {
          "output_type": "execute_result",
          "data": {
            "text/plain": [
              "PassengerId      0\n",
              "Survived         0\n",
              "Pclass           0\n",
              "Name             0\n",
              "Sex              0\n",
              "Age            177\n",
              "SibSp            0\n",
              "Parch            0\n",
              "Ticket           0\n",
              "Fare             0\n",
              "Cabin          687\n",
              "Embarked         2\n",
              "dtype: int64"
            ]
          },
          "metadata": {
            "tags": []
          },
          "execution_count": 10
        }
      ]
    },
    {
      "cell_type": "code",
      "metadata": {
        "id": "-RK9IJ1-_ZpK",
        "colab_type": "code",
        "colab": {},
        "outputId": "48983150-f9aa-41ee-8782-04c509959af7"
      },
      "source": [
        "data['Age'].fillna(data['Age'].median(), inplace=True)\n",
        "data.isnull().sum()"
      ],
      "execution_count": null,
      "outputs": [
        {
          "output_type": "execute_result",
          "data": {
            "text/plain": [
              "PassengerId      0\n",
              "Survived         0\n",
              "Pclass           0\n",
              "Name             0\n",
              "Sex              0\n",
              "Age              0\n",
              "SibSp            0\n",
              "Parch            0\n",
              "Ticket           0\n",
              "Fare             0\n",
              "Cabin          687\n",
              "Embarked         2\n",
              "dtype: int64"
            ]
          },
          "metadata": {
            "tags": []
          },
          "execution_count": 11
        }
      ]
    },
    {
      "cell_type": "markdown",
      "metadata": {
        "id": "VWcDN2Fb_ZpN",
        "colab_type": "text"
      },
      "source": [
        "## Cleaning Data"
      ]
    },
    {
      "cell_type": "code",
      "metadata": {
        "id": "5i_UPBWq_ZpO",
        "colab_type": "code",
        "colab": {}
      },
      "source": [
        "data.drop(['PassengerId','Name','Ticket','Cabin'], axis=1,inplace=True)"
      ],
      "execution_count": null,
      "outputs": []
    },
    {
      "cell_type": "code",
      "metadata": {
        "id": "wsO8gv94_ZpR",
        "colab_type": "code",
        "colab": {},
        "outputId": "b8d3172c-cb6d-4911-8dc7-522367245280"
      },
      "source": [
        "print(data.info())"
      ],
      "execution_count": null,
      "outputs": [
        {
          "output_type": "stream",
          "text": [
            "<class 'pandas.core.frame.DataFrame'>\n",
            "RangeIndex: 891 entries, 0 to 890\n",
            "Data columns (total 8 columns):\n",
            "Survived    891 non-null int64\n",
            "Pclass      891 non-null int64\n",
            "Sex         891 non-null object\n",
            "Age         891 non-null float64\n",
            "SibSp       891 non-null int64\n",
            "Parch       891 non-null int64\n",
            "Fare        891 non-null float64\n",
            "Embarked    889 non-null object\n",
            "dtypes: float64(2), int64(4), object(2)\n",
            "memory usage: 55.8+ KB\n",
            "None\n"
          ],
          "name": "stdout"
        }
      ]
    },
    {
      "cell_type": "code",
      "metadata": {
        "id": "3327XDoI_ZpU",
        "colab_type": "code",
        "colab": {}
      },
      "source": [
        "Embarked_map={'Embarked':{'S':1,'C':2,'Q':3}}"
      ],
      "execution_count": null,
      "outputs": []
    },
    {
      "cell_type": "code",
      "metadata": {
        "id": "1Mob_cyZ_ZpW",
        "colab_type": "code",
        "colab": {},
        "outputId": "5ecab724-1509-407c-837e-2b294ab9bfce"
      },
      "source": [
        "labels1 = data['Embarked'].astype('category').cat.categories.tolist()\n",
        "replace_map_comp1 = {'Embarked' : {k: v for k,v in zip(labels1,list(range(1,len(labels1)+1)))}}\n",
        "\n",
        "print(replace_map_comp1)"
      ],
      "execution_count": null,
      "outputs": [
        {
          "output_type": "stream",
          "text": [
            "{'Embarked': {'C': 1, 'Q': 2, 'S': 3}}\n"
          ],
          "name": "stdout"
        }
      ]
    },
    {
      "cell_type": "code",
      "metadata": {
        "id": "GZx4m2F7_ZpZ",
        "colab_type": "code",
        "colab": {}
      },
      "source": [
        "data_replace1 = data.copy()"
      ],
      "execution_count": null,
      "outputs": []
    },
    {
      "cell_type": "code",
      "metadata": {
        "id": "bWLLlFOC_Zpl",
        "colab_type": "code",
        "colab": {},
        "outputId": "17e1e01b-be20-4531-9a75-46eafd17ca6f"
      },
      "source": [
        "data_replace1.replace(replace_map_comp1, inplace=True)\n",
        "print(data_replace1.head())"
      ],
      "execution_count": null,
      "outputs": [
        {
          "output_type": "stream",
          "text": [
            "   Survived  Pclass     Sex   Age  SibSp  Parch     Fare  Embarked\n",
            "0         0       3    male  22.0      1      0   7.2500       3.0\n",
            "1         1       1  female  38.0      1      0  71.2833       1.0\n",
            "2         1       3  female  26.0      0      0   7.9250       3.0\n",
            "3         1       1  female  35.0      1      0  53.1000       3.0\n",
            "4         0       3    male  35.0      0      0   8.0500       3.0\n"
          ],
          "name": "stdout"
        }
      ]
    },
    {
      "cell_type": "code",
      "metadata": {
        "id": "0OLG7nG7_Zpp",
        "colab_type": "code",
        "colab": {}
      },
      "source": [
        "Sex_map={'Sex':{'Male':1,'Female':2}}"
      ],
      "execution_count": null,
      "outputs": []
    },
    {
      "cell_type": "code",
      "metadata": {
        "id": "CmYOKUfx_Zpr",
        "colab_type": "code",
        "colab": {},
        "outputId": "cd5df811-00d5-4c64-974d-1a049021c914"
      },
      "source": [
        "labels2 = data['Sex'].astype('category').cat.categories.tolist()\n",
        "replace_map_comp2 = {'Sex' : {k: v for k,v in zip(labels2,list(range(1,len(labels2)+1)))}}\n",
        "print(replace_map_comp2)"
      ],
      "execution_count": null,
      "outputs": [
        {
          "output_type": "stream",
          "text": [
            "{'Sex': {'female': 1, 'male': 2}}\n"
          ],
          "name": "stdout"
        }
      ]
    },
    {
      "cell_type": "code",
      "metadata": {
        "id": "pJPRWGgB_Zpu",
        "colab_type": "code",
        "colab": {}
      },
      "source": [
        "data_replace2 = data_replace1.copy()"
      ],
      "execution_count": null,
      "outputs": []
    },
    {
      "cell_type": "code",
      "metadata": {
        "id": "e3dS0z-__Zpw",
        "colab_type": "code",
        "colab": {},
        "outputId": "43e8def8-f111-4852-f3c8-9e4c566fa9ab"
      },
      "source": [
        "data_replace2.replace(replace_map_comp2, inplace=True)\n",
        "print(data_replace2.head())"
      ],
      "execution_count": null,
      "outputs": [
        {
          "output_type": "stream",
          "text": [
            "   Survived  Pclass  Sex   Age  SibSp  Parch     Fare  Embarked\n",
            "0         0       3    2  22.0      1      0   7.2500       3.0\n",
            "1         1       1    1  38.0      1      0  71.2833       1.0\n",
            "2         1       3    1  26.0      0      0   7.9250       3.0\n",
            "3         1       1    1  35.0      1      0  53.1000       3.0\n",
            "4         0       3    2  35.0      0      0   8.0500       3.0\n"
          ],
          "name": "stdout"
        }
      ]
    },
    {
      "cell_type": "code",
      "metadata": {
        "id": "S4ea6dbR_Zpz",
        "colab_type": "code",
        "colab": {},
        "outputId": "bb5dc373-23d6-46a8-90e3-01ce67292ce3"
      },
      "source": [
        "data_replace2.isnull().sum()"
      ],
      "execution_count": null,
      "outputs": [
        {
          "output_type": "execute_result",
          "data": {
            "text/plain": [
              "Survived    0\n",
              "Pclass      0\n",
              "Sex         0\n",
              "Age         0\n",
              "SibSp       0\n",
              "Parch       0\n",
              "Fare        0\n",
              "Embarked    2\n",
              "dtype: int64"
            ]
          },
          "metadata": {
            "tags": []
          },
          "execution_count": 22
        }
      ]
    },
    {
      "cell_type": "code",
      "metadata": {
        "id": "x5sfU5Hg_Zp2",
        "colab_type": "code",
        "colab": {}
      },
      "source": [
        "df1=data_replace2.dropna(axis='rows')"
      ],
      "execution_count": null,
      "outputs": []
    },
    {
      "cell_type": "code",
      "metadata": {
        "id": "syLorpni_Zp6",
        "colab_type": "code",
        "colab": {},
        "outputId": "a358da59-99aa-407d-da2f-9918a0e54957"
      },
      "source": [
        "df1.isnull().sum()"
      ],
      "execution_count": null,
      "outputs": [
        {
          "output_type": "execute_result",
          "data": {
            "text/plain": [
              "Survived    0\n",
              "Pclass      0\n",
              "Sex         0\n",
              "Age         0\n",
              "SibSp       0\n",
              "Parch       0\n",
              "Fare        0\n",
              "Embarked    0\n",
              "dtype: int64"
            ]
          },
          "metadata": {
            "tags": []
          },
          "execution_count": 24
        }
      ]
    },
    {
      "cell_type": "code",
      "metadata": {
        "id": "iy_ChLGh_Zp9",
        "colab_type": "code",
        "colab": {}
      },
      "source": [
        "data1=pd.DataFrame(df1)\n",
        "data1.to_csv(\"data cleaning titanic.csv\")"
      ],
      "execution_count": null,
      "outputs": []
    },
    {
      "cell_type": "markdown",
      "metadata": {
        "id": "ugpjbunW_ZqA",
        "colab_type": "text"
      },
      "source": [
        "## Logistic Regression"
      ]
    },
    {
      "cell_type": "code",
      "metadata": {
        "id": "6NoKBsTz_ZqB",
        "colab_type": "code",
        "colab": {},
        "outputId": "f338e5b9-aad8-4e8f-a7eb-042f755ea733"
      },
      "source": [
        "data=pd.read_csv(\"data cleaning titanic.csv\")\n",
        "data.head()"
      ],
      "execution_count": null,
      "outputs": [
        {
          "output_type": "execute_result",
          "data": {
            "text/html": [
              "<div>\n",
              "<style scoped>\n",
              "    .dataframe tbody tr th:only-of-type {\n",
              "        vertical-align: middle;\n",
              "    }\n",
              "\n",
              "    .dataframe tbody tr th {\n",
              "        vertical-align: top;\n",
              "    }\n",
              "\n",
              "    .dataframe thead th {\n",
              "        text-align: right;\n",
              "    }\n",
              "</style>\n",
              "<table border=\"1\" class=\"dataframe\">\n",
              "  <thead>\n",
              "    <tr style=\"text-align: right;\">\n",
              "      <th></th>\n",
              "      <th>Unnamed: 0</th>\n",
              "      <th>Survived</th>\n",
              "      <th>Pclass</th>\n",
              "      <th>Sex</th>\n",
              "      <th>Age</th>\n",
              "      <th>SibSp</th>\n",
              "      <th>Parch</th>\n",
              "      <th>Fare</th>\n",
              "      <th>Embarked</th>\n",
              "    </tr>\n",
              "  </thead>\n",
              "  <tbody>\n",
              "    <tr>\n",
              "      <th>0</th>\n",
              "      <td>0</td>\n",
              "      <td>0</td>\n",
              "      <td>3</td>\n",
              "      <td>2</td>\n",
              "      <td>22.0</td>\n",
              "      <td>1</td>\n",
              "      <td>0</td>\n",
              "      <td>7.2500</td>\n",
              "      <td>3.0</td>\n",
              "    </tr>\n",
              "    <tr>\n",
              "      <th>1</th>\n",
              "      <td>1</td>\n",
              "      <td>1</td>\n",
              "      <td>1</td>\n",
              "      <td>1</td>\n",
              "      <td>38.0</td>\n",
              "      <td>1</td>\n",
              "      <td>0</td>\n",
              "      <td>71.2833</td>\n",
              "      <td>1.0</td>\n",
              "    </tr>\n",
              "    <tr>\n",
              "      <th>2</th>\n",
              "      <td>2</td>\n",
              "      <td>1</td>\n",
              "      <td>3</td>\n",
              "      <td>1</td>\n",
              "      <td>26.0</td>\n",
              "      <td>0</td>\n",
              "      <td>0</td>\n",
              "      <td>7.9250</td>\n",
              "      <td>3.0</td>\n",
              "    </tr>\n",
              "    <tr>\n",
              "      <th>3</th>\n",
              "      <td>3</td>\n",
              "      <td>1</td>\n",
              "      <td>1</td>\n",
              "      <td>1</td>\n",
              "      <td>35.0</td>\n",
              "      <td>1</td>\n",
              "      <td>0</td>\n",
              "      <td>53.1000</td>\n",
              "      <td>3.0</td>\n",
              "    </tr>\n",
              "    <tr>\n",
              "      <th>4</th>\n",
              "      <td>4</td>\n",
              "      <td>0</td>\n",
              "      <td>3</td>\n",
              "      <td>2</td>\n",
              "      <td>35.0</td>\n",
              "      <td>0</td>\n",
              "      <td>0</td>\n",
              "      <td>8.0500</td>\n",
              "      <td>3.0</td>\n",
              "    </tr>\n",
              "  </tbody>\n",
              "</table>\n",
              "</div>"
            ],
            "text/plain": [
              "   Unnamed: 0  Survived  Pclass  Sex   Age  SibSp  Parch     Fare  Embarked\n",
              "0           0         0       3    2  22.0      1      0   7.2500       3.0\n",
              "1           1         1       1    1  38.0      1      0  71.2833       1.0\n",
              "2           2         1       3    1  26.0      0      0   7.9250       3.0\n",
              "3           3         1       1    1  35.0      1      0  53.1000       3.0\n",
              "4           4         0       3    2  35.0      0      0   8.0500       3.0"
            ]
          },
          "metadata": {
            "tags": []
          },
          "execution_count": 26
        }
      ]
    },
    {
      "cell_type": "code",
      "metadata": {
        "id": "h4CpfdEl_ZqE",
        "colab_type": "code",
        "colab": {},
        "outputId": "401fc927-69fb-4d0c-94d4-7881302a2dbd"
      },
      "source": [
        "X = np.asarray(data[['Pclass', 'Sex', 'Age', 'SibSp', 'Parch', 'Fare', 'Embarked']])\n",
        "X[0:5]"
      ],
      "execution_count": null,
      "outputs": [
        {
          "output_type": "execute_result",
          "data": {
            "text/plain": [
              "array([[ 3.    ,  2.    , 22.    ,  1.    ,  0.    ,  7.25  ,  3.    ],\n",
              "       [ 1.    ,  1.    , 38.    ,  1.    ,  0.    , 71.2833,  1.    ],\n",
              "       [ 3.    ,  1.    , 26.    ,  0.    ,  0.    ,  7.925 ,  3.    ],\n",
              "       [ 1.    ,  1.    , 35.    ,  1.    ,  0.    , 53.1   ,  3.    ],\n",
              "       [ 3.    ,  2.    , 35.    ,  0.    ,  0.    ,  8.05  ,  3.    ]])"
            ]
          },
          "metadata": {
            "tags": []
          },
          "execution_count": 27
        }
      ]
    },
    {
      "cell_type": "code",
      "metadata": {
        "id": "MljbFBI6_ZqH",
        "colab_type": "code",
        "colab": {},
        "outputId": "f0144288-21c5-4dba-c32d-23e9f9432cf7"
      },
      "source": [
        "y = np.asarray(data['Survived'])\n",
        "y [0:5]"
      ],
      "execution_count": null,
      "outputs": [
        {
          "output_type": "execute_result",
          "data": {
            "text/plain": [
              "array([0, 1, 1, 1, 0], dtype=int64)"
            ]
          },
          "metadata": {
            "tags": []
          },
          "execution_count": 28
        }
      ]
    },
    {
      "cell_type": "code",
      "metadata": {
        "id": "DApjY87w_ZqL",
        "colab_type": "code",
        "colab": {},
        "outputId": "36499fa5-7074-47d0-f346-807ce7c06ef8"
      },
      "source": [
        "X = preprocessing.StandardScaler().fit(X).transform(X)\n",
        "X[0:5]"
      ],
      "execution_count": null,
      "outputs": [
        {
          "output_type": "execute_result",
          "data": {
            "text/plain": [
              "array([[ 0.82520863,  0.73534203, -0.56367407,  0.43135024, -0.47432585,\n",
              "        -0.50023975,  0.58683958],\n",
              "       [-1.57221121, -1.35991138,  0.66921696,  0.43135024, -0.47432585,\n",
              "         0.78894661, -1.93955453],\n",
              "       [ 0.82520863, -1.35991138, -0.25545131, -0.47519908, -0.47432585,\n",
              "        -0.48664993,  0.58683958],\n",
              "       [-1.57221121, -1.35991138,  0.43804989,  0.43135024, -0.47432585,\n",
              "         0.42286111,  0.58683958],\n",
              "       [ 0.82520863,  0.73534203,  0.43804989, -0.47519908, -0.47432585,\n",
              "        -0.4841333 ,  0.58683958]])"
            ]
          },
          "metadata": {
            "tags": []
          },
          "execution_count": 29
        }
      ]
    },
    {
      "cell_type": "code",
      "metadata": {
        "id": "BlIOuTc-_ZqO",
        "colab_type": "code",
        "colab": {},
        "outputId": "19c78978-a0a8-4ad7-a097-8a11252c2031"
      },
      "source": [
        "X_train, X_test, y_train, y_test = train_test_split( X, y, test_size=0.2, random_state=4)\n",
        "print ('Train set:', X_train.shape,  y_train.shape)\n",
        "print ('Test set:', X_test.shape,  y_test.shape)"
      ],
      "execution_count": null,
      "outputs": [
        {
          "output_type": "stream",
          "text": [
            "Train set: (711, 7) (711,)\n",
            "Test set: (178, 7) (178,)\n"
          ],
          "name": "stdout"
        }
      ]
    },
    {
      "cell_type": "code",
      "metadata": {
        "id": "HzkIr7YN_ZqQ",
        "colab_type": "code",
        "colab": {},
        "outputId": "e89c9549-9a2c-4034-cf92-bbb04bf36062"
      },
      "source": [
        "LR = LogisticRegression(C=0.01, solver='liblinear').fit(X_train,y_train)\n",
        "LR"
      ],
      "execution_count": null,
      "outputs": [
        {
          "output_type": "execute_result",
          "data": {
            "text/plain": [
              "LogisticRegression(C=0.01, class_weight=None, dual=False, fit_intercept=True,\n",
              "          intercept_scaling=1, max_iter=100, multi_class='warn',\n",
              "          n_jobs=None, penalty='l2', random_state=None, solver='liblinear',\n",
              "          tol=0.0001, verbose=0, warm_start=False)"
            ]
          },
          "metadata": {
            "tags": []
          },
          "execution_count": 31
        }
      ]
    },
    {
      "cell_type": "code",
      "metadata": {
        "id": "42-NAXxb_ZqS",
        "colab_type": "code",
        "colab": {},
        "outputId": "b4fc2423-8d8b-4d68-c175-527c97046032"
      },
      "source": [
        "yhat = LR.predict(X_test)\n",
        "yhat"
      ],
      "execution_count": null,
      "outputs": [
        {
          "output_type": "execute_result",
          "data": {
            "text/plain": [
              "array([1, 1, 0, 1, 1, 0, 0, 1, 0, 0, 0, 1, 0, 0, 1, 1, 0, 0, 1, 0, 0, 0,\n",
              "       1, 0, 0, 0, 1, 1, 1, 0, 0, 0, 0, 0, 1, 1, 1, 0, 1, 1, 0, 0, 1, 0,\n",
              "       1, 1, 0, 1, 0, 0, 0, 0, 0, 0, 0, 1, 0, 1, 1, 1, 1, 0, 0, 0, 1, 0,\n",
              "       0, 1, 1, 0, 1, 0, 0, 1, 1, 0, 1, 1, 1, 0, 1, 1, 0, 0, 0, 0, 1, 0,\n",
              "       1, 1, 1, 0, 0, 1, 0, 1, 0, 0, 0, 0, 0, 0, 0, 0, 1, 0, 0, 1, 1, 0,\n",
              "       1, 0, 1, 0, 1, 1, 1, 0, 0, 0, 1, 0, 0, 1, 0, 0, 0, 0, 1, 0, 1, 0,\n",
              "       0, 0, 1, 0, 0, 0, 0, 1, 0, 0, 0, 0, 0, 1, 0, 0, 0, 0, 0, 1, 0, 0,\n",
              "       0, 1, 1, 1, 0, 0, 1, 0, 1, 1, 0, 1, 1, 0, 0, 0, 0, 1, 0, 0, 1, 1,\n",
              "       0, 0], dtype=int64)"
            ]
          },
          "metadata": {
            "tags": []
          },
          "execution_count": 32
        }
      ]
    },
    {
      "cell_type": "code",
      "metadata": {
        "id": "PiqqJFnb_ZqW",
        "colab_type": "code",
        "colab": {},
        "outputId": "ae6984ac-e6c5-40ed-85ba-880edaa91e81"
      },
      "source": [
        "yhat_prob = LR.predict_proba(X_test)\n",
        "yhat_prob"
      ],
      "execution_count": null,
      "outputs": [
        {
          "output_type": "execute_result",
          "data": {
            "text/plain": [
              "array([[0.33889201, 0.66110799],\n",
              "       [0.14856809, 0.85143191],\n",
              "       [0.62225427, 0.37774573],\n",
              "       [0.32019498, 0.67980502],\n",
              "       [0.26363476, 0.73636524],\n",
              "       [0.55673383, 0.44326617],\n",
              "       [0.7620822 , 0.2379178 ],\n",
              "       [0.38201289, 0.61798711],\n",
              "       [0.77943143, 0.22056857],\n",
              "       [0.84403126, 0.15596874],\n",
              "       [0.76563623, 0.23436377],\n",
              "       [0.15493622, 0.84506378],\n",
              "       [0.73234291, 0.26765709],\n",
              "       [0.76669383, 0.23330617],\n",
              "       [0.44699015, 0.55300985],\n",
              "       [0.41097019, 0.58902981],\n",
              "       [0.77858442, 0.22141558],\n",
              "       [0.77924923, 0.22075077],\n",
              "       [0.16297193, 0.83702807],\n",
              "       [0.79053933, 0.20946067],\n",
              "       [0.67823461, 0.32176539],\n",
              "       [0.81115081, 0.18884919],\n",
              "       [0.30833698, 0.69166302],\n",
              "       [0.72986065, 0.27013935],\n",
              "       [0.78760213, 0.21239787],\n",
              "       [0.77993265, 0.22006735],\n",
              "       [0.48279509, 0.51720491],\n",
              "       [0.42746436, 0.57253564],\n",
              "       [0.41015316, 0.58984684],\n",
              "       [0.78742192, 0.21257808],\n",
              "       [0.67823461, 0.32176539],\n",
              "       [0.80859552, 0.19140448],\n",
              "       [0.71556905, 0.28443095],\n",
              "       [0.56189303, 0.43810697],\n",
              "       [0.12867521, 0.87132479],\n",
              "       [0.49340251, 0.50659749],\n",
              "       [0.48441541, 0.51558459],\n",
              "       [0.82567693, 0.17432307],\n",
              "       [0.13747975, 0.86252025],\n",
              "       [0.46813338, 0.53186662],\n",
              "       [0.70684543, 0.29315457],\n",
              "       [0.85661766, 0.14338234],\n",
              "       [0.38190084, 0.61809916],\n",
              "       [0.66194716, 0.33805284],\n",
              "       [0.39984087, 0.60015913],\n",
              "       [0.45407773, 0.54592227],\n",
              "       [0.74655359, 0.25344641],\n",
              "       [0.21000472, 0.78999528],\n",
              "       [0.76802995, 0.23197005],\n",
              "       [0.70737415, 0.29262585],\n",
              "       [0.51815926, 0.48184074],\n",
              "       [0.77983191, 0.22016809],\n",
              "       [0.76173128, 0.23826872],\n",
              "       [0.55720337, 0.44279663],\n",
              "       [0.74521408, 0.25478592],\n",
              "       [0.42753813, 0.57246187],\n",
              "       [0.76199594, 0.23800406],\n",
              "       [0.19501984, 0.80498016],\n",
              "       [0.21226703, 0.78773297],\n",
              "       [0.29230911, 0.70769089],\n",
              "       [0.47219623, 0.52780377],\n",
              "       [0.78380143, 0.21619857],\n",
              "       [0.69617981, 0.30382019],\n",
              "       [0.50077942, 0.49922058],\n",
              "       [0.40880083, 0.59119917],\n",
              "       [0.73299021, 0.26700979],\n",
              "       [0.79340668, 0.20659332],\n",
              "       [0.2236265 , 0.7763735 ],\n",
              "       [0.45610674, 0.54389326],\n",
              "       [0.63027609, 0.36972391],\n",
              "       [0.14783106, 0.85216894],\n",
              "       [0.7999627 , 0.2000373 ],\n",
              "       [0.59767803, 0.40232197],\n",
              "       [0.36248457, 0.63751543],\n",
              "       [0.39461691, 0.60538309],\n",
              "       [0.80486793, 0.19513207],\n",
              "       [0.14030743, 0.85969257],\n",
              "       [0.37346047, 0.62653953],\n",
              "       [0.34369108, 0.65630892],\n",
              "       [0.56468316, 0.43531684],\n",
              "       [0.26894408, 0.73105592],\n",
              "       [0.35767879, 0.64232121],\n",
              "       [0.77993265, 0.22006735],\n",
              "       [0.70737084, 0.29262916],\n",
              "       [0.69290251, 0.30709749],\n",
              "       [0.75831117, 0.24168883],\n",
              "       [0.35288545, 0.64711455],\n",
              "       [0.59549614, 0.40450386],\n",
              "       [0.18503724, 0.81496276],\n",
              "       [0.18733305, 0.81266695],\n",
              "       [0.28875169, 0.71124831],\n",
              "       [0.61958456, 0.38041544],\n",
              "       [0.58603054, 0.41396946],\n",
              "       [0.43773445, 0.56226555],\n",
              "       [0.78899216, 0.21100784],\n",
              "       [0.37878341, 0.62121659],\n",
              "       [0.69617981, 0.30382019],\n",
              "       [0.66470227, 0.33529773],\n",
              "       [0.58742597, 0.41257403],\n",
              "       [0.76754458, 0.23245542],\n",
              "       [0.77420036, 0.22579964],\n",
              "       [0.7895118 , 0.2104882 ],\n",
              "       [0.6982899 , 0.3017101 ],\n",
              "       [0.78825543, 0.21174457],\n",
              "       [0.36245479, 0.63754521],\n",
              "       [0.7799862 , 0.2200138 ],\n",
              "       [0.70737084, 0.29262916],\n",
              "       [0.33851426, 0.66148574],\n",
              "       [0.29005762, 0.70994238],\n",
              "       [0.76802995, 0.23197005],\n",
              "       [0.16733348, 0.83266652],\n",
              "       [0.82135557, 0.17864443],\n",
              "       [0.3180159 , 0.6819841 ],\n",
              "       [0.74521408, 0.25478592],\n",
              "       [0.38951622, 0.61048378],\n",
              "       [0.43399681, 0.56600319],\n",
              "       [0.47306686, 0.52693314],\n",
              "       [0.72861134, 0.27138866],\n",
              "       [0.74521408, 0.25478592],\n",
              "       [0.68316496, 0.31683504],\n",
              "       [0.47895033, 0.52104967],\n",
              "       [0.83833332, 0.16166668],\n",
              "       [0.54726797, 0.45273203],\n",
              "       [0.36054517, 0.63945483],\n",
              "       [0.67823461, 0.32176539],\n",
              "       [0.76180608, 0.23819392],\n",
              "       [0.77230953, 0.22769047],\n",
              "       [0.78762072, 0.21237928],\n",
              "       [0.34038748, 0.65961252],\n",
              "       [0.70737084, 0.29262916],\n",
              "       [0.42753813, 0.57246187],\n",
              "       [0.75956812, 0.24043188],\n",
              "       [0.68482215, 0.31517785],\n",
              "       [0.78760213, 0.21239787],\n",
              "       [0.45628202, 0.54371798],\n",
              "       [0.71247284, 0.28752716],\n",
              "       [0.74051293, 0.25948707],\n",
              "       [0.78031343, 0.21968657],\n",
              "       [0.78276508, 0.21723492],\n",
              "       [0.48975643, 0.51024357],\n",
              "       [0.7547727 , 0.2452273 ],\n",
              "       [0.72299896, 0.27700104],\n",
              "       [0.58014859, 0.41985141],\n",
              "       [0.71882705, 0.28117295],\n",
              "       [0.68212935, 0.31787065],\n",
              "       [0.2478879 , 0.7521121 ],\n",
              "       [0.57056387, 0.42943613],\n",
              "       [0.77443765, 0.22556235],\n",
              "       [0.76260093, 0.23739907],\n",
              "       [0.78948544, 0.21051456],\n",
              "       [0.82191097, 0.17808903],\n",
              "       [0.378993  , 0.621007  ],\n",
              "       [0.7670425 , 0.2329575 ],\n",
              "       [0.58176708, 0.41823292],\n",
              "       [0.81641982, 0.18358018],\n",
              "       [0.42741779, 0.57258221],\n",
              "       [0.43911799, 0.56088201],\n",
              "       [0.39654584, 0.60345416],\n",
              "       [0.61136327, 0.38863673],\n",
              "       [0.60731209, 0.39268791],\n",
              "       [0.42741779, 0.57258221],\n",
              "       [0.68561488, 0.31438512],\n",
              "       [0.29679171, 0.70320829],\n",
              "       [0.47210927, 0.52789073],\n",
              "       [0.77210173, 0.22789827],\n",
              "       [0.37996321, 0.62003679],\n",
              "       [0.42580931, 0.57419069],\n",
              "       [0.6620386 , 0.3379614 ],\n",
              "       [0.79378422, 0.20621578],\n",
              "       [0.78177313, 0.21822687],\n",
              "       [0.76036018, 0.23963982],\n",
              "       [0.15521897, 0.84478103],\n",
              "       [0.77294037, 0.22705963],\n",
              "       [0.7803542 , 0.2196458 ],\n",
              "       [0.4295269 , 0.5704731 ],\n",
              "       [0.49777336, 0.50222664],\n",
              "       [0.67575438, 0.32424562],\n",
              "       [0.70684543, 0.29315457]])"
            ]
          },
          "metadata": {
            "tags": []
          },
          "execution_count": 33
        }
      ]
    },
    {
      "cell_type": "code",
      "metadata": {
        "id": "dfjGO29O_ZqY",
        "colab_type": "code",
        "colab": {},
        "outputId": "0b1c1346-540e-497f-ed37-0309450801ad"
      },
      "source": [
        "from sklearn.metrics import jaccard_similarity_score\n",
        "jaccard_similarity_score(y_test, yhat)"
      ],
      "execution_count": null,
      "outputs": [
        {
          "output_type": "execute_result",
          "data": {
            "text/plain": [
              "0.7528089887640449"
            ]
          },
          "metadata": {
            "tags": []
          },
          "execution_count": 34
        }
      ]
    },
    {
      "cell_type": "code",
      "metadata": {
        "id": "f3lQBqog_Zqa",
        "colab_type": "code",
        "colab": {},
        "outputId": "d7aa8db8-0b54-4164-fd7d-eb19fde376d6"
      },
      "source": [
        "from sklearn.metrics import classification_report, confusion_matrix\n",
        "import itertools\n",
        "def plot_confusion_matrix(cm, classes,\n",
        "                          normalize=False,\n",
        "                          title='Confusion matrix',\n",
        "                          cmap=plt.cm.Blues):\n",
        "    \"\"\"\n",
        "    This function prints and plots the confusion matrix.\n",
        "    Normalization can be applied by setting `normalize=True`.\n",
        "    \"\"\"\n",
        "    if normalize:\n",
        "        cm = cm.astype('float') / cm.sum(axis=1)[:, np.newaxis]\n",
        "        print(\"Normalized confusion matrix\")\n",
        "    else:\n",
        "        print('Confusion matrix, without normalization')\n",
        "\n",
        "    print(cm)\n",
        "\n",
        "    plt.imshow(cm, interpolation='nearest', cmap=cmap)\n",
        "    plt.title(title)\n",
        "    plt.colorbar()\n",
        "    tick_marks = np.arange(len(classes))\n",
        "    plt.xticks(tick_marks, classes, rotation=45)\n",
        "    plt.yticks(tick_marks, classes)\n",
        "\n",
        "    fmt = '.2f' if normalize else 'd'\n",
        "    thresh = cm.max() / 2.\n",
        "    for i, j in itertools.product(range(cm.shape[0]), range(cm.shape[1])):\n",
        "        plt.text(j, i, format(cm[i, j], fmt),\n",
        "                 horizontalalignment=\"center\",\n",
        "                 color=\"white\" if cm[i, j] > thresh else \"black\")\n",
        "\n",
        "    plt.tight_layout()\n",
        "    plt.ylabel('True label')\n",
        "    plt.xlabel('Predicted label')\n",
        "print(confusion_matrix(y_test, yhat, labels=[1,0]))"
      ],
      "execution_count": null,
      "outputs": [
        {
          "output_type": "stream",
          "text": [
            "[[50 23]\n",
            " [21 84]]\n"
          ],
          "name": "stdout"
        }
      ]
    },
    {
      "cell_type": "code",
      "metadata": {
        "id": "Xz65YQdl_Zqd",
        "colab_type": "code",
        "colab": {},
        "outputId": "4162adbd-4934-423f-f487-5e56aafc3314"
      },
      "source": [
        "# Compute confusion matrix\n",
        "cnf_matrix = confusion_matrix(y_test, yhat, labels=[1,0])\n",
        "np.set_printoptions(precision=2)\n",
        "\n",
        "\n",
        "# Plot non-normalized confusion matrix\n",
        "plt.figure()\n",
        "plot_confusion_matrix(cnf_matrix, classes=['Survived=1','Dead=0'],normalize= False,  title='Confusion matrix')"
      ],
      "execution_count": null,
      "outputs": [
        {
          "output_type": "stream",
          "text": [
            "Confusion matrix, without normalization\n",
            "[[50 23]\n",
            " [21 84]]\n"
          ],
          "name": "stdout"
        },
        {
          "output_type": "display_data",
          "data": {
            "image/png": "[encoded data removed]",
            "text/plain": [
              "<Figure size 432x288 with 2 Axes>"
            ]
          },
          "metadata": {
            "tags": [],
            "needs_background": "light"
          }
        }
      ]
    },
    {
      "cell_type": "markdown",
      "metadata": {
        "id": "BI6vwz1T_Zqf",
        "colab_type": "text"
      },
      "source": [
        "Terdapat 178 sampel testing dataset, klasifier memprediksi penumpang yang terselamatkan sebanyak 73 penumpang, dan prediksi tidak terselamatkan adalah sebanyak 105 penumpang. Sedangkan pada data aktual terdapat 71 penumpang yang terselamtkan, namun 107 penumpang lainnya tidak terselamatkan. Hasil prediksi 23 penumpang merupakan __False Positif (FP)__ dimana nilai prediksi menyatakan hasil penumpang yang terselamatkan sedangkan data aktualnya tidak terselamatkan. Hasil prediksi bernilaii 21 merupakan __False Negatif (FN)__ dimana nilai prediksi menyatakan hasil penumpang yang tidak terselamatkan tetapi data aktualnya terselamatkan. Kemudian penumpang tidak terselamatkan sebanyak 84 penumpang."
      ]
    },
    {
      "cell_type": "code",
      "metadata": {
        "id": "yJ8o1Ks9_Zqf",
        "colab_type": "code",
        "colab": {},
        "outputId": "f7eb799c-2d04-40a5-fde9-e493d06bad77"
      },
      "source": [
        "print (classification_report(y_test, yhat))"
      ],
      "execution_count": null,
      "outputs": [
        {
          "output_type": "stream",
          "text": [
            "              precision    recall  f1-score   support\n",
            "\n",
            "           0       0.79      0.80      0.79       105\n",
            "           1       0.70      0.68      0.69        73\n",
            "\n",
            "   micro avg       0.75      0.75      0.75       178\n",
            "   macro avg       0.74      0.74      0.74       178\n",
            "weighted avg       0.75      0.75      0.75       178\n",
            "\n"
          ],
          "name": "stdout"
        }
      ]
    },
    {
      "cell_type": "markdown",
      "metadata": {
        "id": "QaZS-IGu_Zqi",
        "colab_type": "text"
      },
      "source": [
        "Dapat diketahui akurasi rata-rata untuk klasifikasi ini adalah dari rata-rata __F1-score__ untuk kedua label tersebut adalah 0,75 dalam data ini."
      ]
    },
    {
      "cell_type": "code",
      "metadata": {
        "id": "-NvxfXvy_Zqk",
        "colab_type": "code",
        "colab": {},
        "outputId": "98a4a7c0-0328-4d3d-bcc1-e3ce6faa1099"
      },
      "source": [
        "from sklearn.metrics import log_loss\n",
        "log_loss(y_test, yhat_prob)"
      ],
      "execution_count": null,
      "outputs": [
        {
          "output_type": "execute_result",
          "data": {
            "text/plain": [
              "0.5175421194774706"
            ]
          },
          "metadata": {
            "tags": []
          },
          "execution_count": 38
        }
      ]
    },
    {
      "cell_type": "code",
      "metadata": {
        "id": "uQ6qrVAE_Zqq",
        "colab_type": "code",
        "colab": {},
        "outputId": "46636270-657d-4992-c438-bb95c0d9418d"
      },
      "source": [
        "from sklearn.linear_model import LogisticRegression\n",
        "lr = LogisticRegression(max_iter = 200)\n",
        "lr.fit(X_train,y_train)\n",
        "print(\"our accuracy is: {}\".format(lr.score(X_test,y_test)))"
      ],
      "execution_count": null,
      "outputs": [
        {
          "output_type": "stream",
          "text": [
            "our accuracy is: 0.7808988764044944\n"
          ],
          "name": "stdout"
        },
        {
          "output_type": "stream",
          "text": [
            "C:\\Users\\Astarani\\Anaconda3\\lib\\site-packages\\sklearn\\linear_model\\logistic.py:433: FutureWarning: Default solver will be changed to 'lbfgs' in 0.22. Specify a solver to silence this warning.\n",
            "  FutureWarning)\n"
          ],
          "name": "stderr"
        }
      ]
    },
    {
      "cell_type": "markdown",
      "metadata": {
        "id": "vS47Jccn_Zqu",
        "colab_type": "text"
      },
      "source": [
        "## SVM"
      ]
    },
    {
      "cell_type": "code",
      "metadata": {
        "id": "UXaJ_mJj_Zqv",
        "colab_type": "code",
        "colab": {},
        "outputId": "9628553a-a41f-42f6-e679-de59f5d223ec"
      },
      "source": [
        "data=pd.read_csv(\"data cleaning titanic.csv\")\n",
        "data.head()"
      ],
      "execution_count": null,
      "outputs": [
        {
          "output_type": "execute_result",
          "data": {
            "text/html": [
              "<div>\n",
              "<style scoped>\n",
              "    .dataframe tbody tr th:only-of-type {\n",
              "        vertical-align: middle;\n",
              "    }\n",
              "\n",
              "    .dataframe tbody tr th {\n",
              "        vertical-align: top;\n",
              "    }\n",
              "\n",
              "    .dataframe thead th {\n",
              "        text-align: right;\n",
              "    }\n",
              "</style>\n",
              "<table border=\"1\" class=\"dataframe\">\n",
              "  <thead>\n",
              "    <tr style=\"text-align: right;\">\n",
              "      <th></th>\n",
              "      <th>Unnamed: 0</th>\n",
              "      <th>Survived</th>\n",
              "      <th>Pclass</th>\n",
              "      <th>Sex</th>\n",
              "      <th>Age</th>\n",
              "      <th>SibSp</th>\n",
              "      <th>Parch</th>\n",
              "      <th>Fare</th>\n",
              "      <th>Embarked</th>\n",
              "    </tr>\n",
              "  </thead>\n",
              "  <tbody>\n",
              "    <tr>\n",
              "      <th>0</th>\n",
              "      <td>0</td>\n",
              "      <td>0</td>\n",
              "      <td>3</td>\n",
              "      <td>2</td>\n",
              "      <td>22.0</td>\n",
              "      <td>1</td>\n",
              "      <td>0</td>\n",
              "      <td>7.2500</td>\n",
              "      <td>3.0</td>\n",
              "    </tr>\n",
              "    <tr>\n",
              "      <th>1</th>\n",
              "      <td>1</td>\n",
              "      <td>1</td>\n",
              "      <td>1</td>\n",
              "      <td>1</td>\n",
              "      <td>38.0</td>\n",
              "      <td>1</td>\n",
              "      <td>0</td>\n",
              "      <td>71.2833</td>\n",
              "      <td>1.0</td>\n",
              "    </tr>\n",
              "    <tr>\n",
              "      <th>2</th>\n",
              "      <td>2</td>\n",
              "      <td>1</td>\n",
              "      <td>3</td>\n",
              "      <td>1</td>\n",
              "      <td>26.0</td>\n",
              "      <td>0</td>\n",
              "      <td>0</td>\n",
              "      <td>7.9250</td>\n",
              "      <td>3.0</td>\n",
              "    </tr>\n",
              "    <tr>\n",
              "      <th>3</th>\n",
              "      <td>3</td>\n",
              "      <td>1</td>\n",
              "      <td>1</td>\n",
              "      <td>1</td>\n",
              "      <td>35.0</td>\n",
              "      <td>1</td>\n",
              "      <td>0</td>\n",
              "      <td>53.1000</td>\n",
              "      <td>3.0</td>\n",
              "    </tr>\n",
              "    <tr>\n",
              "      <th>4</th>\n",
              "      <td>4</td>\n",
              "      <td>0</td>\n",
              "      <td>3</td>\n",
              "      <td>2</td>\n",
              "      <td>35.0</td>\n",
              "      <td>0</td>\n",
              "      <td>0</td>\n",
              "      <td>8.0500</td>\n",
              "      <td>3.0</td>\n",
              "    </tr>\n",
              "  </tbody>\n",
              "</table>\n",
              "</div>"
            ],
            "text/plain": [
              "   Unnamed: 0  Survived  Pclass  Sex   Age  SibSp  Parch     Fare  Embarked\n",
              "0           0         0       3    2  22.0      1      0   7.2500       3.0\n",
              "1           1         1       1    1  38.0      1      0  71.2833       1.0\n",
              "2           2         1       3    1  26.0      0      0   7.9250       3.0\n",
              "3           3         1       1    1  35.0      1      0  53.1000       3.0\n",
              "4           4         0       3    2  35.0      0      0   8.0500       3.0"
            ]
          },
          "metadata": {
            "tags": []
          },
          "execution_count": 40
        }
      ]
    },
    {
      "cell_type": "code",
      "metadata": {
        "id": "-_R8z9Rc_Zqy",
        "colab_type": "code",
        "colab": {},
        "outputId": "ed93f41f-1269-4193-e15c-e5ab4e213527"
      },
      "source": [
        "data.dtypes"
      ],
      "execution_count": null,
      "outputs": [
        {
          "output_type": "execute_result",
          "data": {
            "text/plain": [
              "Unnamed: 0      int64\n",
              "Survived        int64\n",
              "Pclass          int64\n",
              "Sex             int64\n",
              "Age           float64\n",
              "SibSp           int64\n",
              "Parch           int64\n",
              "Fare          float64\n",
              "Embarked      float64\n",
              "dtype: object"
            ]
          },
          "metadata": {
            "tags": []
          },
          "execution_count": 41
        }
      ]
    },
    {
      "cell_type": "code",
      "metadata": {
        "id": "-qXAFRL6_Zq1",
        "colab_type": "code",
        "colab": {},
        "outputId": "cf35848b-a654-45e6-b4ad-050bbc5c66c2"
      },
      "source": [
        "data['Age'] = data['Age'].astype('int')\n",
        "data['Fare'] = data['Fare'].astype('int')\n",
        "data['Embarked'] = data['Embarked'].astype('int')\n",
        "data.dtypes"
      ],
      "execution_count": null,
      "outputs": [
        {
          "output_type": "execute_result",
          "data": {
            "text/plain": [
              "Unnamed: 0    int64\n",
              "Survived      int64\n",
              "Pclass        int64\n",
              "Sex           int64\n",
              "Age           int32\n",
              "SibSp         int64\n",
              "Parch         int64\n",
              "Fare          int32\n",
              "Embarked      int32\n",
              "dtype: object"
            ]
          },
          "metadata": {
            "tags": []
          },
          "execution_count": 42
        }
      ]
    },
    {
      "cell_type": "code",
      "metadata": {
        "id": "LZB3JtzM_Zq5",
        "colab_type": "code",
        "colab": {},
        "outputId": "f666cf58-6054-4e15-85fe-b206f3918afd"
      },
      "source": [
        "X = np.asarray(data[['Pclass', 'Sex', 'Age', 'SibSp', 'Parch', 'Fare', 'Embarked']])\n",
        "X[0:5]"
      ],
      "execution_count": null,
      "outputs": [
        {
          "output_type": "execute_result",
          "data": {
            "text/plain": [
              "array([[ 3,  2, 22,  1,  0,  7,  3],\n",
              "       [ 1,  1, 38,  1,  0, 71,  1],\n",
              "       [ 3,  1, 26,  0,  0,  7,  3],\n",
              "       [ 1,  1, 35,  1,  0, 53,  3],\n",
              "       [ 3,  2, 35,  0,  0,  8,  3]], dtype=int64)"
            ]
          },
          "metadata": {
            "tags": []
          },
          "execution_count": 43
        }
      ]
    },
    {
      "cell_type": "code",
      "metadata": {
        "id": "3X928Et9_Zq-",
        "colab_type": "code",
        "colab": {},
        "outputId": "09fe5337-bf67-4ae6-e13e-8f1a42556800"
      },
      "source": [
        "y = np.asarray(data['Survived'])\n",
        "y [0:5]"
      ],
      "execution_count": null,
      "outputs": [
        {
          "output_type": "execute_result",
          "data": {
            "text/plain": [
              "array([0, 1, 1, 1, 0], dtype=int64)"
            ]
          },
          "metadata": {
            "tags": []
          },
          "execution_count": 44
        }
      ]
    },
    {
      "cell_type": "code",
      "metadata": {
        "id": "OX3e7V-p_ZrB",
        "colab_type": "code",
        "colab": {},
        "outputId": "dbf89cdd-e193-46f7-8d48-3251f471221d"
      },
      "source": [
        "X_train, X_test, y_train, y_test = train_test_split( X, y, test_size=0.2, random_state=4)\n",
        "print ('Train set:', X_train.shape,  y_train.shape)\n",
        "print ('Test set:', X_test.shape,  y_test.shape)"
      ],
      "execution_count": null,
      "outputs": [
        {
          "output_type": "stream",
          "text": [
            "Train set: (711, 7) (711,)\n",
            "Test set: (178, 7) (178,)\n"
          ],
          "name": "stdout"
        }
      ]
    },
    {
      "cell_type": "code",
      "metadata": {
        "id": "onFsP3JG_ZrH",
        "colab_type": "code",
        "colab": {},
        "outputId": "c4c2f33b-613d-4f99-8555-7dbba051eff9"
      },
      "source": [
        "clf = svm.SVC(kernel='rbf', gamma='auto')\n",
        "clf.fit(X_train, y_train)"
      ],
      "execution_count": null,
      "outputs": [
        {
          "output_type": "execute_result",
          "data": {
            "text/plain": [
              "SVC(C=1.0, cache_size=200, class_weight=None, coef0=0.0,\n",
              "  decision_function_shape='ovr', degree=3, gamma='auto', kernel='rbf',\n",
              "  max_iter=-1, probability=False, random_state=None, shrinking=True,\n",
              "  tol=0.001, verbose=False)"
            ]
          },
          "metadata": {
            "tags": []
          },
          "execution_count": 46
        }
      ]
    },
    {
      "cell_type": "code",
      "metadata": {
        "id": "nImm59EQ_ZrL",
        "colab_type": "code",
        "colab": {},
        "outputId": "6a562228-4566-4f12-e4a4-9d83efcb2b53"
      },
      "source": [
        "yhat = clf.predict(X_test)\n",
        "yhat [0:5]"
      ],
      "execution_count": null,
      "outputs": [
        {
          "output_type": "execute_result",
          "data": {
            "text/plain": [
              "array([1, 1, 0, 1, 1], dtype=int64)"
            ]
          },
          "metadata": {
            "tags": []
          },
          "execution_count": 47
        }
      ]
    },
    {
      "cell_type": "code",
      "metadata": {
        "id": "dHASf9-F_ZrQ",
        "colab_type": "code",
        "colab": {}
      },
      "source": [
        "def plot_confusion_matrix(cm, classes,\n",
        "                          normalize=False,\n",
        "                          title='Confusion matrix',\n",
        "                          cmap=plt.cm.Blues):\n",
        "    \"\"\"\n",
        "    This function prints and plots the confusion matrix.\n",
        "    Normalization can be applied by setting `normalize=True`.\n",
        "    \"\"\"\n",
        "    if normalize:\n",
        "        cm = cm.astype('float') / cm.sum(axis=1)[:, np.newaxis]\n",
        "        print(\"Normalized confusion matrix\")\n",
        "    else:\n",
        "        print('Confusion matrix, without normalization')\n",
        "\n",
        "    print(cm)\n",
        "\n",
        "    plt.imshow(cm, interpolation='nearest', cmap=cmap)\n",
        "    plt.title(title)\n",
        "    plt.colorbar()\n",
        "    tick_marks = np.arange(len(classes))\n",
        "    plt.xticks(tick_marks, classes, rotation=45)\n",
        "    plt.yticks(tick_marks, classes)\n",
        "\n",
        "    fmt = '.2f' if normalize else 'd'\n",
        "    thresh = cm.max() / 2.\n",
        "    for i, j in itertools.product(range(cm.shape[0]), range(cm.shape[1])):\n",
        "        plt.text(j, i, format(cm[i, j], fmt),\n",
        "                 horizontalalignment=\"center\",\n",
        "                 color=\"white\" if cm[i, j] > thresh else \"black\")\n",
        "\n",
        "    plt.tight_layout()\n",
        "    plt.ylabel('True label')\n",
        "    plt.xlabel('Predicted label')"
      ],
      "execution_count": null,
      "outputs": []
    },
    {
      "cell_type": "code",
      "metadata": {
        "id": "G6dDi_Bt_ZrT",
        "colab_type": "code",
        "colab": {},
        "outputId": "e28da5e2-39a3-4cdb-e352-23cc311ae3c2"
      },
      "source": [
        "# Compute confusion matrix\n",
        "cnf_matrix = confusion_matrix(y_test, yhat, labels=[1,0])\n",
        "np.set_printoptions(precision=2)\n",
        "\n",
        "print (classification_report(y_test, yhat))\n",
        "\n",
        "# Plot non-normalized confusion matrix\n",
        "plt.figure()\n",
        "plot_confusion_matrix(cnf_matrix, classes=['Survived(1)','Dead(0)'],normalize= False,  title='Confusion matrix')"
      ],
      "execution_count": null,
      "outputs": [
        {
          "output_type": "stream",
          "text": [
            "              precision    recall  f1-score   support\n",
            "\n",
            "           0       0.72      0.82      0.76       105\n",
            "           1       0.67      0.53      0.60        73\n",
            "\n",
            "   micro avg       0.70      0.70      0.70       178\n",
            "   macro avg       0.69      0.68      0.68       178\n",
            "weighted avg       0.70      0.70      0.70       178\n",
            "\n",
            "Confusion matrix, without normalization\n",
            "[[39 34]\n",
            " [19 86]]\n"
          ],
          "name": "stdout"
        },
        {
          "output_type": "display_data",
          "data": {
            "image/png": "[encoded data removed]",
            "text/plain": [
              "<Figure size 432x288 with 2 Axes>"
            ]
          },
          "metadata": {
            "tags": [],
            "needs_background": "light"
          }
        }
      ]
    },
    {
      "cell_type": "markdown",
      "metadata": {
        "id": "NQLIAOf8_Zra",
        "colab_type": "text"
      },
      "source": [
        "Terdapat 178 sampel testing dataset, klasifier memprediksi penumpang yang terselamatkan sebanyak 73 penumpang, dan prediksi tidak terselamatkan adalah sebanyak 105 penumpang. Sedangkan pada data aktual terdapat 58 penumpang yang terselamtkan, namun 120 penumpang lainnya tidak terselamatkan. Hasil prediksi 34 penumpang merupakan __False Positif (FP)__ dimana nilai prediksi menyatakan hasil penumpang yang terselamatkan sedangkan data aktualnya tidak terselamatkan. Hasil prediksi bernilaii 19 merupakan __False Negatif (FN)__ dimana nilai prediksi menyatakan hasil penumpang yang tidak terselamatkan tetapi data aktualnya terselamatkan. Kemudian penumpang tidak terselamatkan sebanyak 86 penumpang.\n",
        "\n",
        "Dapat diketahui akurasi rata-rata untuk klasifikasi ini adalah dari rata-rata __F1-score__ untuk kedua label tersebut adalah 0,70 dalam data ini."
      ]
    },
    {
      "cell_type": "code",
      "metadata": {
        "id": "D2oLF5VY_Zrb",
        "colab_type": "code",
        "colab": {},
        "outputId": "6afa7c95-1e77-4fef-bf45-a8b9fbe6bd63"
      },
      "source": [
        "from sklearn.metrics import f1_score\n",
        "f1_score(y_test, yhat, average='weighted') "
      ],
      "execution_count": null,
      "outputs": [
        {
          "output_type": "execute_result",
          "data": {
            "text/plain": [
              "0.6951253680990366"
            ]
          },
          "metadata": {
            "tags": []
          },
          "execution_count": 50
        }
      ]
    },
    {
      "cell_type": "code",
      "metadata": {
        "id": "De6tulma_Zrf",
        "colab_type": "code",
        "colab": {},
        "outputId": "f76465c4-6aa2-4764-b009-14e617d11a5c"
      },
      "source": [
        "from sklearn.metrics import jaccard_similarity_score\n",
        "jaccard_similarity_score(y_test, yhat)"
      ],
      "execution_count": null,
      "outputs": [
        {
          "output_type": "execute_result",
          "data": {
            "text/plain": [
              "0.702247191011236"
            ]
          },
          "metadata": {
            "tags": []
          },
          "execution_count": 51
        }
      ]
    },
    {
      "cell_type": "code",
      "metadata": {
        "id": "ZPvCdmCB_Zrk",
        "colab_type": "code",
        "colab": {}
      },
      "source": [
        ""
      ],
      "execution_count": null,
      "outputs": []
    }
  ]
}